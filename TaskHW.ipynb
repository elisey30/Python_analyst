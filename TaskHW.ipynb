{
 "cells": [
  {
   "attachments": {},
   "cell_type": "markdown",
   "metadata": {},
   "source": [
    "## Задача 1\n",
    "## На складе лежат разные фрукты в разном количестве.\n",
    "## Нужно написать функцию, которая на вход принимает любое количество \n",
    "## названий фруктов и их количество, а возвращает общее количество фруктов\n",
    "## на складе"
   ]
  },
  {
   "cell_type": "code",
   "execution_count": 46,
   "metadata": {},
   "outputs": [],
   "source": [
    "dict_1 = {'lemon': 22, 'banana': 10, 'apple': 19}"
   ]
  },
  {
   "cell_type": "code",
   "execution_count": 47,
   "metadata": {},
   "outputs": [
    {
     "data": {
      "text/plain": [
       "51"
      ]
     },
     "execution_count": 47,
     "metadata": {},
     "output_type": "execute_result"
    }
   ],
   "source": [
    "def different_fruits(dict_1: list):\n",
    "    \n",
    "    total_fruits = sum(dict_1.values())\n",
    "    \n",
    "    return total_fruits\n",
    "different_fruits(dict_1)"
   ]
  },
  {
   "attachments": {},
   "cell_type": "markdown",
   "metadata": {},
   "source": [
    "# Задача 2\n",
    "# Дан список с затратами на рекламу. Но в данных есть ошибки, некоторые затраты\n",
    "# имеют отрицательную величину. Удалите такие значения из списка и посчитайте \n",
    "# суммарные затраты\n",
    "\n",
    "# Используйте list comprehensions"
   ]
  },
  {
   "cell_type": "code",
   "execution_count": 44,
   "metadata": {},
   "outputs": [],
   "source": [
    "dict_2 = [100, 125, -90, 345, 655, -1, 0, 200]"
   ]
  },
  {
   "cell_type": "code",
   "execution_count": 53,
   "metadata": {},
   "outputs": [
    {
     "name": "stdout",
     "output_type": "stream",
     "text": [
      "[100, 125, 345, 655, 200]\n",
      "1425\n"
     ]
    }
   ],
   "source": [
    "def cost_list(dict_2: list):\n",
    "    new_list = []\n",
    "    for i in dict_2:\n",
    "        if i > 0:\n",
    "            new_list.append(i)\n",
    "            \n",
    "    print(new_list)\n",
    "    print(sum(new_list))\n",
    "\n",
    "cost_list(dict_2)"
   ]
  }
 ],
 "metadata": {
  "kernelspec": {
   "display_name": "Python 3",
   "language": "python",
   "name": "python3"
  },
  "language_info": {
   "codemirror_mode": {
    "name": "ipython",
    "version": 3
   },
   "file_extension": ".py",
   "mimetype": "text/x-python",
   "name": "python",
   "nbconvert_exporter": "python",
   "pygments_lexer": "ipython3",
   "version": "3.9.6"
  },
  "orig_nbformat": 4
 },
 "nbformat": 4,
 "nbformat_minor": 2
}
